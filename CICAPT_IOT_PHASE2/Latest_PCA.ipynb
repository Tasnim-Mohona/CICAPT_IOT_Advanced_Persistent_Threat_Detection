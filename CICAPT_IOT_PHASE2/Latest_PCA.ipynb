{
 "cells": [
  {
   "cell_type": "code",
   "execution_count": 2,
   "id": "89f87862-e541-492f-a012-1cdbd68d4ebd",
   "metadata": {},
   "outputs": [
    {
     "name": "stdout",
     "output_type": "stream",
     "text": [
      "                   ts  flow_duration  Header_Length  Source Port  \\\n",
      "0        1.701728e+09       0.000000           1514           80   \n",
      "1        1.701728e+09       0.000548           1568        48884   \n",
      "2        1.701728e+09       0.002528           1622        48884   \n",
      "3        1.701728e+09       0.004881           1676        48884   \n",
      "4        1.701728e+09       0.007555           3189           80   \n",
      "...               ...            ...            ...          ...   \n",
      "9536818  1.701550e+09       2.018212           5460        41544   \n",
      "9536819  1.701550e+09       0.021296           1432          502   \n",
      "9536820  1.701550e+09       2.018227           5670        41544   \n",
      "9536821  1.701550e+09       2.018277           5880        41544   \n",
      "9536822  1.701550e+09       2.018348           6090        41544   \n",
      "\n",
      "         Destination Port  Protocol Type  Duration         Rate        Srate  \\\n",
      "0                   48884              6       127     0.000000     0.000000   \n",
      "1                      80              6        64  3650.395126  3650.395126   \n",
      "2                      80              6        64  1186.731302  1186.731302   \n",
      "3                      80              6        64   819.520125   819.520125   \n",
      "4                   48884              6       127   661.812674   661.812674   \n",
      "...                   ...            ...       ...          ...          ...   \n",
      "9536818              1900             17         1    12.882690    12.882690   \n",
      "9536819             55784              6        64   939.142429   939.142429   \n",
      "9536820              1900             17         1    13.378080    13.378080   \n",
      "9536821              1900             17         1    13.873220    13.873220   \n",
      "9536822              1900             17         1    14.368186    14.368186   \n",
      "\n",
      "         Drate  ...     Covariance  Variance  Weight  DS status  Fragments  \\\n",
      "0          0.0  ...       0.000000       0.0       1          0          0   \n",
      "1          0.0  ...  532900.000000       1.0       4          0          0   \n",
      "2          0.0  ...  473688.888889       1.0       9          0          0   \n",
      "3          0.0  ...  399675.000000       1.0      16          0          0   \n",
      "4          0.0  ...  511233.760000       1.0      25          0          0   \n",
      "...        ...  ...            ...       ...     ...        ...        ...   \n",
      "9536818    0.0  ...    4592.160000       1.0     100          0          0   \n",
      "9536819    0.0  ...    4484.231405       1.0     121          0          0   \n",
      "9536820    0.0  ...    4707.000000       1.0     144          0          0   \n",
      "9536821    0.0  ...    4810.792899       1.0     169          0          0   \n",
      "9536822    0.0  ...    4837.959184       1.0     196          0          0   \n",
      "\n",
      "         Sequence number  Protocol Version  flow_idle_time  flow_active_time  \\\n",
      "0                      0                 0    1.701728e+09          0.000000   \n",
      "1                      0                 0    5.478859e-04          0.000548   \n",
      "2                      0                 0    1.980066e-03          0.002528   \n",
      "3                      0                 0    2.352953e-03          0.004881   \n",
      "4                      0                 0    2.674103e-03          0.007555   \n",
      "...                  ...               ...             ...               ...   \n",
      "9536818                0                 0    2.312660e-05          2.018212   \n",
      "9536819                0                 0    2.112150e-03          0.021296   \n",
      "9536820                0                 0    1.478195e-05          2.018227   \n",
      "9536821                0                 0    5.006790e-05          2.018277   \n",
      "9536822                0                 0    7.104874e-05          2.018348   \n",
      "\n",
      "         label  \n",
      "0            0  \n",
      "1            0  \n",
      "2            0  \n",
      "3            0  \n",
      "4            0  \n",
      "...        ...  \n",
      "9536818      0  \n",
      "9536819      0  \n",
      "9536820      0  \n",
      "9536821      0  \n",
      "9536822      0  \n",
      "\n",
      "[9536823 rows x 65 columns]\n"
     ]
    }
   ],
   "source": [
    "import pandas\n",
    "X = pandas.read_csv('df_dropped_phase2.csv')\n",
    "print(X)"
   ]
  },
  {
   "cell_type": "code",
   "execution_count": 3,
   "id": "89a36ca2-19cc-4167-b336-ae72facfc3e0",
   "metadata": {},
   "outputs": [],
   "source": [
    "import pandas as pd\n",
    "from sklearn.model_selection import train_test_split\n",
    "\n",
    "# Assuming X is your Pandas DataFrame (unlabeled data)\n",
    "X_train, X_test = train_test_split(X, test_size=0.2, random_state=42)\n",
    "\n",
    "# Save the training set to a CSV file\n",
    "X_train.to_csv('training_set.csv', index=False)\n",
    "\n",
    "# Save the test set to a CSV file\n",
    "X_test.to_csv('test_set.csv', index=False)\n"
   ]
  },
  {
   "cell_type": "code",
   "execution_count": 5,
   "id": "072ba759-3dc6-43b3-acbc-4b54a24716aa",
   "metadata": {},
   "outputs": [],
   "source": [
    "from sklearn.preprocessing import StandardScaler\n",
    "\n",
    "# Initialize the scaler\n",
    "scaler = StandardScaler()\n",
    "\n",
    "# Fit the scaler on the training data\n",
    "X_train_scaled = scaler.fit_transform(X_train)\n",
    "\n",
    "# Transform the test data using the same scaler (no refitting)\n",
    "X_test_scaled = scaler.transform(X_test)\n",
    "\n",
    "# Optionally: Save the scaled data to CSV\n",
    "pd.DataFrame(X_train_scaled).to_csv('training_set_scaled.csv', index=False)\n",
    "pd.DataFrame(X_test_scaled).to_csv('test_set_scaled.csv', index=False)"
   ]
  },
  {
   "cell_type": "code",
   "execution_count": 7,
   "id": "aaaf8cac-ee3d-4e6d-a388-71c808a695dd",
   "metadata": {},
   "outputs": [],
   "source": [
    "import matplotlib.pyplot as plt\n",
    "import numpy as np\n",
    "from sklearn.decomposition import PCA\n",
    "from sklearn.preprocessing import StandardScaler\n",
    "\n",
    "# Assuming df_dropped_computed is your computed Pandas DataFrame\n",
    "\n",
    "# Standardize the data (mean = 0, variance = 1)\n",
    "scaler = StandardScaler()\n",
    "df_standardized = scaler.fit_transform(X_train_scaled)\n",
    "pd.DataFrame(df_standardized).to_csv('df_standardized.csv', index=False)"
   ]
  },
  {
   "cell_type": "code",
   "execution_count": 1,
   "id": "db3585eb-eecc-466c-a332-883903cf4a78",
   "metadata": {},
   "outputs": [],
   "source": [
    "import pandas\n",
    "df_standardized = pandas.read_csv('df_standardized.csv')"
   ]
  },
  {
   "cell_type": "code",
   "execution_count": 6,
   "id": "3bd869d4-84c6-4035-ade6-df800713731e",
   "metadata": {},
   "outputs": [
    {
     "data": {
      "image/png": "[encoded data removed]",
      "text/plain": [
       "<Figure size 640x480 with 1 Axes>"
      ]
     },
     "metadata": {},
     "output_type": "display_data"
    },
    {
     "name": "stdout",
     "output_type": "stream",
     "text": [
      "Number of components explaining 90% of variance: 19\n"
     ]
    }
   ],
   "source": [
    "import matplotlib.pyplot as plt\n",
    "import numpy as np\n",
    "from sklearn.decomposition import PCA\n",
    "from sklearn.preprocessing import StandardScaler\n",
    "\n",
    "import pandas as pd\n",
    "\n",
    "# Fit and apply PCA to the standardized data\n",
    "pca = PCA()\n",
    "pca.fit(df_standardized)\n",
    "df_pca_all = pca.transform(df_standardized)\n",
    "\n",
    "# Convert the PCA results to a DataFrame\n",
    "df_pca_all = pd.DataFrame(df_pca_all)\n",
    "\n",
    "# Save the PCA-transformed data to a CSV file\n",
    "df_pca_all.to_csv('pca_transformed_data.csv', index=False)\n",
    "\n",
    "# Extract eigenvalues (variance explained by each component)\n",
    "eigenvalues = pca.explained_variance_\n",
    "\n",
    "# Plot eigenvalues to visualize variance explained by each component\n",
    "plt.bar(np.arange(0, df_standardized.shape[1], 1), eigenvalues)\n",
    "plt.plot(eigenvalues, \"r\")\n",
    "plt.plot(eigenvalues, \"ro\")\n",
    "plt.show()\n",
    "\n",
    "# Print the number of components explaining 90% of the variance\n",
    "explained_variance_ratio = np.cumsum(pca.explained_variance_ratio_)\n",
    "n_components_90 = np.argmax(explained_variance_ratio >= 0.90) + 1\n",
    "print(f\"Number of components explaining 90% of variance: {n_components_90}\")\n",
    "\n"
   ]
  },
  {
   "cell_type": "code",
   "execution_count": null,
   "id": "8e77ddce-7e71-4e00-afc1-0e0549f913fc",
   "metadata": {},
   "outputs": [],
   "source": [
    "import pandas\n",
    "df_standardized = pandas.read_csv('pca_transformed_data.csv')"
   ]
  }
 ],
 "metadata": {
  "kernelspec": {
   "display_name": "Python 3 (ipykernel)",
   "language": "python",
   "name": "python3"
  },
  "language_info": {
   "codemirror_mode": {
    "name": "ipython",
    "version": 3
   },
   "file_extension": ".py",
   "mimetype": "text/x-python",
   "name": "python",
   "nbconvert_exporter": "python",
   "pygments_lexer": "ipython3",
   "version": "3.12.3"
  }
 },
 "nbformat": 4,
 "nbformat_minor": 5
}
