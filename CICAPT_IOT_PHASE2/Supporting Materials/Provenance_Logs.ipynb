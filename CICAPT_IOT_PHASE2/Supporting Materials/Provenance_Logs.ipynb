{
 "cells": [
  {
   "cell_type": "code",
   "execution_count": 1,
   "id": "df4ca8b1-8811-455e-b0d8-7a28e2cd35c1",
   "metadata": {},
   "outputs": [],
   "source": [
    "import pandas as pd"
   ]
  },
  {
   "cell_type": "code",
   "execution_count": 6,
   "id": "6f142b5c-6b16-460b-b7c8-f7d2783601c1",
   "metadata": {},
   "outputs": [
    {
     "name": "stdout",
     "output_type": "stream",
     "text": [
      "                                 id            type  \\\n",
      "0  ac692c8152f756ee90c08b4f03aa1b0d         Process   \n",
      "1  7b5f8ad90ec4544e537cc1fe806f3f09         Process   \n",
      "2                               NaN  WasTriggeredBy   \n",
      "3  c433d73e1b5e7bc767877f935fa88e3b        Artifact   \n",
      "4                               NaN            Used   \n",
      "\n",
      "                               from                                to  uid  \\\n",
      "0                               NaN                               NaN  0.0   \n",
      "1                               NaN                               NaN  0.0   \n",
      "2  7b5f8ad90ec4544e537cc1fe806f3f09  ac692c8152f756ee90c08b4f03aa1b0d  NaN   \n",
      "3                               NaN                               NaN  NaN   \n",
      "4  7b5f8ad90ec4544e537cc1fe806f3f09  c433d73e1b5e7bc767877f935fa88e3b  NaN   \n",
      "\n",
      "   egid            exe  gid  euid   name  ...  local address  remote port  \\\n",
      "0   0.0  /usr/bin/dash  0.0   0.0  bind9  ...            NaN          NaN   \n",
      "1   0.0  /usr/bin/dash  0.0   0.0  bind9  ...            NaN          NaN   \n",
      "2   NaN            NaN  NaN   NaN    NaN  ...            NaN          NaN   \n",
      "3   NaN            NaN  NaN   NaN    NaN  ...            NaN          NaN   \n",
      "4   NaN            NaN  NaN   NaN    NaN  ...            NaN          NaN   \n",
      "\n",
      "  protocol  remote address local port  tgid  fd  mode label subLabel  \n",
      "0      NaN             NaN        NaN   NaN NaN   NaN     0        0  \n",
      "1      NaN             NaN        NaN   NaN NaN   NaN     0        0  \n",
      "2      NaN             NaN        NaN   NaN NaN   NaN     0        0  \n",
      "3      NaN             NaN        NaN   NaN NaN   NaN     0        0  \n",
      "4      NaN             NaN        NaN   NaN NaN   NaN     0        0  \n",
      "\n",
      "[5 rows x 35 columns]\n",
      "                                 id            type  \\\n",
      "0  ca5b322fa4d4cb63aa5dd9fbd88e37e4         Process   \n",
      "1  e36715b62c8cdc32e47483b3600712f1         Process   \n",
      "2                               NaN  WasTriggeredBy   \n",
      "3  216f4d4893942a66d649c4e02b5722c4        Artifact   \n",
      "4                               NaN            Used   \n",
      "\n",
      "                               from                                to  uid  \\\n",
      "0                               NaN                               NaN  0.0   \n",
      "1                               NaN                               NaN  0.0   \n",
      "2  e36715b62c8cdc32e47483b3600712f1  ca5b322fa4d4cb63aa5dd9fbd88e37e4  NaN   \n",
      "3                               NaN                               NaN  NaN   \n",
      "4  e36715b62c8cdc32e47483b3600712f1  216f4d4893942a66d649c4e02b5722c4  NaN   \n",
      "\n",
      "   egid            exe  gid  euid     name  ...  local address  remote port  \\\n",
      "0   0.0  /usr/bin/dash  0.0   0.0  ethtool  ...            NaN          NaN   \n",
      "1   0.0  /usr/bin/dash  0.0   0.0  ethtool  ...            NaN          NaN   \n",
      "2   NaN            NaN  NaN   NaN      NaN  ...            NaN          NaN   \n",
      "3   NaN            NaN  NaN   NaN      NaN  ...            NaN          NaN   \n",
      "4   NaN            NaN  NaN   NaN      NaN  ...            NaN          NaN   \n",
      "\n",
      "  protocol  remote address local port  tgid  fd  mode label subLabel  \n",
      "0      NaN             NaN        NaN   NaN NaN   NaN     0        0  \n",
      "1      NaN             NaN        NaN   NaN NaN   NaN     0        0  \n",
      "2      NaN             NaN        NaN   NaN NaN   NaN     0        0  \n",
      "3      NaN             NaN        NaN   NaN NaN   NaN     0        0  \n",
      "4      NaN             NaN        NaN   NaN NaN   NaN     0        0  \n",
      "\n",
      "[5 rows x 35 columns]\n"
     ]
    }
   ],
   "source": [
    "import dask.dataframe as dd\n",
    "\n",
    "# Specify the correct dtypes for problematic columns\n",
    "dtype_spec = {\n",
    "    'flags': 'object',\n",
    "    'protocol': 'object',\n",
    "    'remote address': 'object',\n",
    "    'subLabel': 'object'  # subLabel should be treated as a string\n",
    "}\n",
    "\n",
    "# Load the CSV files with Dask, applying dtype specification and low_memory=False\n",
    "phase1_data = dd.read_csv(\n",
    "    r\"D:\\00 Datasets\\CICAPT-IIoT Dataset\\Provenance_Logs\\Phase1_Provenance.csv\",\n",
    "    dtype=dtype_spec,\n",
    "    low_memory=False\n",
    ")\n",
    "phase2_data = dd.read_csv(\n",
    "    r\"D:\\00 Datasets\\CICAPT-IIoT Dataset\\Provenance_Logs\\Phase2_Provenance.csv\",\n",
    "    dtype=dtype_spec,\n",
    "    low_memory=False\n",
    ")\n",
    "\n",
    "# Inspect the first few rows (this will trigger computation)\n",
    "print(phase1_data.head())\n",
    "print(phase2_data.head())\n"
   ]
  },
  {
   "cell_type": "code",
   "execution_count": 7,
   "id": "912b0d65-004c-45ac-9f3f-aff8a9b90b9d",
   "metadata": {},
   "outputs": [
    {
     "name": "stderr",
     "output_type": "stream",
     "text": [
      "C:\\Users\\Acer\\miniconda3\\Lib\\site-packages\\dask\\dataframe\\io\\csv.py:195: DtypeWarning: Columns (24,27,34) have mixed types. Specify dtype option on import or set low_memory=False.\n",
      "  df = reader(bio, **kwargs)\n"
     ]
    },
    {
     "ename": "ValueError",
     "evalue": "Mismatched dtypes found in `pd.read_csv`/`pd.read_table`.\n\n+----------------+--------+----------+\n| Column         | Found  | Expected |\n+----------------+--------+----------+\n| flags          | object | float64  |\n| protocol       | object | float64  |\n| remote address | object | float64  |\n| subLabel       | object | int64    |\n+----------------+--------+----------+\n\nThe following columns also raised exceptions on conversion:\n\n- flags\n  ValueError(\"could not convert string to float: 'O_RDWR'\")\n- protocol\n  ValueError(\"could not convert string to float: 'tcp'\")\n- remote address\n  ValueError(\"could not convert string to float: '127.0.0.1'\")\n- subLabel\n  ValueError(\"invalid literal for int() with base 10: 'initialAccess'\")\n\nUsually this is due to dask's dtype inference failing, and\n*may* be fixed by specifying dtypes manually by adding:\n\ndtype={'flags': 'object',\n       'protocol': 'object',\n       'remote address': 'object',\n       'subLabel': 'object'}\n\nto the call to `read_csv`/`read_table`.",
     "output_type": "error",
     "traceback": [
      "\u001b[1;31m---------------------------------------------------------------------------\u001b[0m",
      "\u001b[1;31mValueError\u001b[0m                                Traceback (most recent call last)",
      "Cell \u001b[1;32mIn[7], line 9\u001b[0m\n\u001b[0;32m      6\u001b[0m phase2_data \u001b[38;5;241m=\u001b[39m phase2_data\u001b[38;5;241m.\u001b[39mfillna(\u001b[38;5;124m'\u001b[39m\u001b[38;5;124mUnknown\u001b[39m\u001b[38;5;124m'\u001b[39m)\n\u001b[0;32m      8\u001b[0m \u001b[38;5;66;03m# Perform computation\u001b[39;00m\n\u001b[1;32m----> 9\u001b[0m computed_phase2_data \u001b[38;5;241m=\u001b[39m phase2_data\u001b[38;5;241m.\u001b[39mcompute()\n",
      "File \u001b[1;32m~\\miniconda3\\Lib\\site-packages\\dask_expr\\_collection.py:476\u001b[0m, in \u001b[0;36mFrameBase.compute\u001b[1;34m(self, fuse, **kwargs)\u001b[0m\n\u001b[0;32m    474\u001b[0m     out \u001b[38;5;241m=\u001b[39m out\u001b[38;5;241m.\u001b[39mrepartition(npartitions\u001b[38;5;241m=\u001b[39m\u001b[38;5;241m1\u001b[39m)\n\u001b[0;32m    475\u001b[0m out \u001b[38;5;241m=\u001b[39m out\u001b[38;5;241m.\u001b[39moptimize(fuse\u001b[38;5;241m=\u001b[39mfuse)\n\u001b[1;32m--> 476\u001b[0m \u001b[38;5;28;01mreturn\u001b[39;00m DaskMethodsMixin\u001b[38;5;241m.\u001b[39mcompute(out, \u001b[38;5;241m*\u001b[39m\u001b[38;5;241m*\u001b[39mkwargs)\n",
      "File \u001b[1;32m~\\miniconda3\\Lib\\site-packages\\dask\\base.py:375\u001b[0m, in \u001b[0;36mDaskMethodsMixin.compute\u001b[1;34m(self, **kwargs)\u001b[0m\n\u001b[0;32m    351\u001b[0m \u001b[38;5;28;01mdef\u001b[39;00m \u001b[38;5;21mcompute\u001b[39m(\u001b[38;5;28mself\u001b[39m, \u001b[38;5;241m*\u001b[39m\u001b[38;5;241m*\u001b[39mkwargs):\n\u001b[0;32m    352\u001b[0m \u001b[38;5;250m    \u001b[39m\u001b[38;5;124;03m\"\"\"Compute this dask collection\u001b[39;00m\n\u001b[0;32m    353\u001b[0m \n\u001b[0;32m    354\u001b[0m \u001b[38;5;124;03m    This turns a lazy Dask collection into its in-memory equivalent.\u001b[39;00m\n\u001b[1;32m   (...)\u001b[0m\n\u001b[0;32m    373\u001b[0m \u001b[38;5;124;03m    dask.compute\u001b[39;00m\n\u001b[0;32m    374\u001b[0m \u001b[38;5;124;03m    \"\"\"\u001b[39;00m\n\u001b[1;32m--> 375\u001b[0m     (result,) \u001b[38;5;241m=\u001b[39m compute(\u001b[38;5;28mself\u001b[39m, traverse\u001b[38;5;241m=\u001b[39m\u001b[38;5;28;01mFalse\u001b[39;00m, \u001b[38;5;241m*\u001b[39m\u001b[38;5;241m*\u001b[39mkwargs)\n\u001b[0;32m    376\u001b[0m     \u001b[38;5;28;01mreturn\u001b[39;00m result\n",
      "File \u001b[1;32m~\\miniconda3\\Lib\\site-packages\\dask\\base.py:661\u001b[0m, in \u001b[0;36mcompute\u001b[1;34m(traverse, optimize_graph, scheduler, get, *args, **kwargs)\u001b[0m\n\u001b[0;32m    658\u001b[0m     postcomputes\u001b[38;5;241m.\u001b[39mappend(x\u001b[38;5;241m.\u001b[39m__dask_postcompute__())\n\u001b[0;32m    660\u001b[0m \u001b[38;5;28;01mwith\u001b[39;00m shorten_traceback():\n\u001b[1;32m--> 661\u001b[0m     results \u001b[38;5;241m=\u001b[39m schedule(dsk, keys, \u001b[38;5;241m*\u001b[39m\u001b[38;5;241m*\u001b[39mkwargs)\n\u001b[0;32m    663\u001b[0m \u001b[38;5;28;01mreturn\u001b[39;00m repack([f(r, \u001b[38;5;241m*\u001b[39ma) \u001b[38;5;28;01mfor\u001b[39;00m r, (f, a) \u001b[38;5;129;01min\u001b[39;00m \u001b[38;5;28mzip\u001b[39m(results, postcomputes)])\n",
      "File \u001b[1;32m~\\miniconda3\\Lib\\site-packages\\dask_expr\\_expr.py:3723\u001b[0m, in \u001b[0;36mFused._execute_task\u001b[1;34m(graph, name, *deps)\u001b[0m\n\u001b[0;32m   3721\u001b[0m \u001b[38;5;28;01mfor\u001b[39;00m i, dep \u001b[38;5;129;01min\u001b[39;00m \u001b[38;5;28menumerate\u001b[39m(deps):\n\u001b[0;32m   3722\u001b[0m     graph[\u001b[38;5;124m\"\u001b[39m\u001b[38;5;124m_\u001b[39m\u001b[38;5;124m\"\u001b[39m \u001b[38;5;241m+\u001b[39m \u001b[38;5;28mstr\u001b[39m(i)] \u001b[38;5;241m=\u001b[39m dep\n\u001b[1;32m-> 3723\u001b[0m \u001b[38;5;28;01mreturn\u001b[39;00m dask\u001b[38;5;241m.\u001b[39mcore\u001b[38;5;241m.\u001b[39mget(graph, name)\n",
      "File \u001b[1;32m~\\miniconda3\\Lib\\site-packages\\dask\\dataframe\\io\\csv.py:142\u001b[0m, in \u001b[0;36mCSVFunctionWrapper.__call__\u001b[1;34m(self, part)\u001b[0m\n\u001b[0;32m    139\u001b[0m         rest_kwargs[\u001b[38;5;124m\"\u001b[39m\u001b[38;5;124musecols\u001b[39m\u001b[38;5;124m\"\u001b[39m] \u001b[38;5;241m=\u001b[39m columns\n\u001b[0;32m    141\u001b[0m \u001b[38;5;66;03m# Call `pandas_read_text`\u001b[39;00m\n\u001b[1;32m--> 142\u001b[0m df \u001b[38;5;241m=\u001b[39m pandas_read_text(\n\u001b[0;32m    143\u001b[0m     \u001b[38;5;28mself\u001b[39m\u001b[38;5;241m.\u001b[39mreader,\n\u001b[0;32m    144\u001b[0m     block,\n\u001b[0;32m    145\u001b[0m     \u001b[38;5;28mself\u001b[39m\u001b[38;5;241m.\u001b[39mheader,\n\u001b[0;32m    146\u001b[0m     rest_kwargs,\n\u001b[0;32m    147\u001b[0m     \u001b[38;5;28mself\u001b[39m\u001b[38;5;241m.\u001b[39mdtypes,\n\u001b[0;32m    148\u001b[0m     columns,\n\u001b[0;32m    149\u001b[0m     write_header,\n\u001b[0;32m    150\u001b[0m     \u001b[38;5;28mself\u001b[39m\u001b[38;5;241m.\u001b[39menforce,\n\u001b[0;32m    151\u001b[0m     path_info,\n\u001b[0;32m    152\u001b[0m )\n\u001b[0;32m    153\u001b[0m \u001b[38;5;28;01mif\u001b[39;00m project_after_read:\n\u001b[0;32m    154\u001b[0m     \u001b[38;5;28;01mreturn\u001b[39;00m df[\u001b[38;5;28mself\u001b[39m\u001b[38;5;241m.\u001b[39mcolumns]\n",
      "File \u001b[1;32m~\\miniconda3\\Lib\\site-packages\\dask\\dataframe\\io\\csv.py:197\u001b[0m, in \u001b[0;36mpandas_read_text\u001b[1;34m(reader, b, header, kwargs, dtypes, columns, write_header, enforce, path)\u001b[0m\n\u001b[0;32m    195\u001b[0m df \u001b[38;5;241m=\u001b[39m reader(bio, \u001b[38;5;241m*\u001b[39m\u001b[38;5;241m*\u001b[39mkwargs)\n\u001b[0;32m    196\u001b[0m \u001b[38;5;28;01mif\u001b[39;00m dtypes:\n\u001b[1;32m--> 197\u001b[0m     coerce_dtypes(df, dtypes)\n\u001b[0;32m    199\u001b[0m \u001b[38;5;28;01mif\u001b[39;00m enforce \u001b[38;5;129;01mand\u001b[39;00m columns \u001b[38;5;129;01mand\u001b[39;00m (\u001b[38;5;28mlist\u001b[39m(df\u001b[38;5;241m.\u001b[39mcolumns) \u001b[38;5;241m!=\u001b[39m \u001b[38;5;28mlist\u001b[39m(columns)):\n\u001b[0;32m    200\u001b[0m     \u001b[38;5;28;01mraise\u001b[39;00m \u001b[38;5;167;01mValueError\u001b[39;00m(\u001b[38;5;124m\"\u001b[39m\u001b[38;5;124mColumns do not match\u001b[39m\u001b[38;5;124m\"\u001b[39m, df\u001b[38;5;241m.\u001b[39mcolumns, columns)\n",
      "File \u001b[1;32m~\\miniconda3\\Lib\\site-packages\\dask\\dataframe\\io\\csv.py:298\u001b[0m, in \u001b[0;36mcoerce_dtypes\u001b[1;34m(df, dtypes)\u001b[0m\n\u001b[0;32m    294\u001b[0m rule \u001b[38;5;241m=\u001b[39m \u001b[38;5;124m\"\u001b[39m\u001b[38;5;130;01m\\n\u001b[39;00m\u001b[38;5;130;01m\\n\u001b[39;00m\u001b[38;5;132;01m%s\u001b[39;00m\u001b[38;5;130;01m\\n\u001b[39;00m\u001b[38;5;130;01m\\n\u001b[39;00m\u001b[38;5;124m\"\u001b[39m \u001b[38;5;241m%\u001b[39m (\u001b[38;5;124m\"\u001b[39m\u001b[38;5;124m-\u001b[39m\u001b[38;5;124m\"\u001b[39m \u001b[38;5;241m*\u001b[39m \u001b[38;5;241m61\u001b[39m)\n\u001b[0;32m    295\u001b[0m msg \u001b[38;5;241m=\u001b[39m \u001b[38;5;124m\"\u001b[39m\u001b[38;5;124mMismatched dtypes found in `pd.read_csv`/`pd.read_table`.\u001b[39m\u001b[38;5;130;01m\\n\u001b[39;00m\u001b[38;5;130;01m\\n\u001b[39;00m\u001b[38;5;132;01m%s\u001b[39;00m\u001b[38;5;124m\"\u001b[39m \u001b[38;5;241m%\u001b[39m (\n\u001b[0;32m    296\u001b[0m     rule\u001b[38;5;241m.\u001b[39mjoin(\u001b[38;5;28mfilter\u001b[39m(\u001b[38;5;28;01mNone\u001b[39;00m, [dtype_msg, date_msg]))\n\u001b[0;32m    297\u001b[0m )\n\u001b[1;32m--> 298\u001b[0m \u001b[38;5;28;01mraise\u001b[39;00m \u001b[38;5;167;01mValueError\u001b[39;00m(msg)\n",
      "\u001b[1;31mValueError\u001b[0m: Mismatched dtypes found in `pd.read_csv`/`pd.read_table`.\n\n+----------------+--------+----------+\n| Column         | Found  | Expected |\n+----------------+--------+----------+\n| flags          | object | float64  |\n| protocol       | object | float64  |\n| remote address | object | float64  |\n| subLabel       | object | int64    |\n+----------------+--------+----------+\n\nThe following columns also raised exceptions on conversion:\n\n- flags\n  ValueError(\"could not convert string to float: 'O_RDWR'\")\n- protocol\n  ValueError(\"could not convert string to float: 'tcp'\")\n- remote address\n  ValueError(\"could not convert string to float: '127.0.0.1'\")\n- subLabel\n  ValueError(\"invalid literal for int() with base 10: 'initialAccess'\")\n\nUsually this is due to dask's dtype inference failing, and\n*may* be fixed by specifying dtypes manually by adding:\n\ndtype={'flags': 'object',\n       'protocol': 'object',\n       'remote address': 'object',\n       'subLabel': 'object'}\n\nto the call to `read_csv`/`read_table`."
     ]
    }
   ],
   "source": [
    "# Specify dtypes for columns with mixed types\n",
    "phase2_data = dd.read_csv(r\"D:\\00 Datasets\\CICAPT-IIoT Dataset\\Provenance_Logs\\Phase2_Provenance.csv\", \n",
    "                          dtype={'column_name1': 'object', 'column_name2': 'object', 'column_name3': 'object'})\n",
    "\n",
    "# Fill NaN values\n",
    "phase2_data = phase2_data.fillna('Unknown')\n",
    "\n",
    "# Perform computation\n",
    "computed_phase2_data = phase2_data.compute()\n"
   ]
  },
  {
   "cell_type": "code",
   "execution_count": null,
   "id": "8adadff2-f76a-4b5e-a066-444142c590de",
   "metadata": {},
   "outputs": [],
   "source": []
  }
 ],
 "metadata": {
  "kernelspec": {
   "display_name": "Python 3 (ipykernel)",
   "language": "python",
   "name": "python3"
  },
  "language_info": {
   "codemirror_mode": {
    "name": "ipython",
    "version": 3
   },
   "file_extension": ".py",
   "mimetype": "text/x-python",
   "name": "python",
   "nbconvert_exporter": "python",
   "pygments_lexer": "ipython3",
   "version": "3.12.4"
  }
 },
 "nbformat": 4,
 "nbformat_minor": 5
}
